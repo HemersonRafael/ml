{
  "nbformat": 4,
  "nbformat_minor": 0,
  "metadata": {
    "colab": {
      "name": "exemplo_MLP_keras.ipynb",
      "provenance": []
    },
    "kernelspec": {
      "name": "python3",
      "display_name": "Python 3"
    },
    "language_info": {
      "name": "python"
    }
  },
  "cells": [
    {
      "cell_type": "code",
      "metadata": {
        "id": "1sxd9K0rwXNb"
      },
      "source": [
        "# Bibliotecas necessárias\n",
        "# Manipulação de dados\n",
        "import pandas as pd\n",
        "# Redes Neurais\n",
        "from tensorflow import keras\n",
        "from tensorflow.keras.datasets import mnist\n",
        "from tensorflow.keras.models import Sequential\n",
        "from tensorflow.keras.layers import Dense, Dropout\n",
        "from tensorflow.keras.optimizers import RMSprop\n",
        "# Plot\n",
        "import matplotlib.pyplot as plt\n",
        "%matplotlib inline\n",
        "# Avaliação\n",
        "from sklearn.metrics import classification_report, confusion_matrix"
      ],
      "execution_count": 1,
      "outputs": []
    },
    {
      "cell_type": "code",
      "metadata": {
        "id": "DnG0r7oZwcVs"
      },
      "source": [
        "# Lendo o dataset Kaggle\n",
        "train = pd.read_csv(\"https://raw.githubusercontent.com/HemersonRafael/ml/main/MLP_KERAS/train.csv?token=AD5SBCB5DHEB4IAGAI3QIEDAQJB4U\")\n",
        "\n",
        "#Alternativa ler do próprio keras\n",
        "#(x_train, y_train), (x_test, y_test) = mnist.load_data()"
      ],
      "execution_count": 2,
      "outputs": []
    },
    {
      "cell_type": "code",
      "metadata": {
        "colab": {
          "base_uri": "https://localhost:8080/"
        },
        "id": "FkvSilMywga2",
        "outputId": "641c804d-c4c7-427a-9df8-1ccf75d8b29a"
      },
      "source": [
        "# Analisando o dataset\n",
        "print(\"Quantidade de elementos de treino: {}\". format(len(train)))\n",
        "print(train.head())"
      ],
      "execution_count": 3,
      "outputs": [
        {
          "output_type": "stream",
          "text": [
            "Quantidade de elementos de treino: 42000\n",
            "   label  pixel0  pixel1  pixel2  ...  pixel780  pixel781  pixel782  pixel783\n",
            "0      1       0       0       0  ...         0         0         0         0\n",
            "1      0       0       0       0  ...         0         0         0         0\n",
            "2      1       0       0       0  ...         0         0         0         0\n",
            "3      4       0       0       0  ...         0         0         0         0\n",
            "4      0       0       0       0  ...         0         0         0         0\n",
            "\n",
            "[5 rows x 785 columns]\n"
          ],
          "name": "stdout"
        }
      ]
    },
    {
      "cell_type": "code",
      "metadata": {
        "colab": {
          "base_uri": "https://localhost:8080/"
        },
        "id": "WseM9hpnwkI8",
        "outputId": "d15e894f-9b56-43e8-c205-7944cb25e9ac"
      },
      "source": [
        "# Separando x_train e y_train\n",
        "Y = train[\"label\"]\n",
        "X = train.drop(labels = [\"label\"],axis = 1)\n",
        "print(X.head())\n",
        "# Em formato numpy array de imagens 28 x 28\n",
        "#x = X.values.reshape(-1,28,28,1)\n",
        "#print(x[0])"
      ],
      "execution_count": 4,
      "outputs": [
        {
          "output_type": "stream",
          "text": [
            "   pixel0  pixel1  pixel2  pixel3  ...  pixel780  pixel781  pixel782  pixel783\n",
            "0       0       0       0       0  ...         0         0         0         0\n",
            "1       0       0       0       0  ...         0         0         0         0\n",
            "2       0       0       0       0  ...         0         0         0         0\n",
            "3       0       0       0       0  ...         0         0         0         0\n",
            "4       0       0       0       0  ...         0         0         0         0\n",
            "\n",
            "[5 rows x 784 columns]\n"
          ],
          "name": "stdout"
        }
      ]
    },
    {
      "cell_type": "code",
      "metadata": {
        "colab": {
          "base_uri": "https://localhost:8080/",
          "height": 282
        },
        "id": "1Nq2xRCQwnb5",
        "outputId": "34819148-5cf4-4b90-da3d-c1fedf34d8c3"
      },
      "source": [
        "# Numtendi nada!\n",
        "# Bora ver com matplotlib\n",
        "plt.imshow(X.values[100].reshape(28,28), cmap=plt.cm.binary)\n",
        "plt.show()\n",
        "print('Label: {}'.format(Y[100]))"
      ],
      "execution_count": 5,
      "outputs": [
        {
          "output_type": "display_data",
          "data": {
            "image/png": "[encoded data removed]",
            "text/plain": [
              "<Figure size 432x288 with 1 Axes>"
            ]
          },
          "metadata": {
            "tags": [],
            "needs_background": "light"
          }
        },
        {
          "output_type": "stream",
          "text": [
            "Label: 9\n"
          ],
          "name": "stdout"
        }
      ]
    },
    {
      "cell_type": "code",
      "metadata": {
        "colab": {
          "base_uri": "https://localhost:8080/"
        },
        "id": "pWBpHme9wx6I",
        "outputId": "7e1da5c7-3bcc-4074-aff5-006718ff7b62"
      },
      "source": [
        "# Transformando a imagem 2d em um numpy array (imagem 28*28 = 784 pixels)\n",
        "x = X.values.reshape(42000, 784)\n",
        "\n",
        "#Normalizando para valores entre 0 e 1\n",
        "x = x.astype('float32')\n",
        "x /= 255\n",
        "\n",
        "print(x[0])"
      ],
      "execution_count": 6,
      "outputs": [
        {
          "output_type": "stream",
          "text": [
            "[0.         0.         0.         0.         0.         0.\n",
            " 0.         0.         0.         0.         0.         0.\n",
            " 0.         0.         0.         0.         0.         0.\n",
            " 0.         0.         0.         0.         0.         0.\n",
            " 0.         0.         0.         0.         0.         0.\n",
            " 0.         0.         0.         0.         0.         0.\n",
            " 0.         0.         0.         0.         0.         0.\n",
            " 0.         0.         0.         0.         0.         0.\n",
            " 0.         0.         0.         0.         0.         0.\n",
            " 0.         0.         0.         0.         0.         0.\n",
            " 0.         0.         0.         0.         0.         0.\n",
            " 0.         0.         0.         0.         0.         0.\n",
            " 0.         0.         0.         0.         0.         0.\n",
            " 0.         0.         0.         0.         0.         0.\n",
            " 0.         0.         0.         0.         0.         0.\n",
            " 0.         0.         0.         0.         0.         0.\n",
            " 0.         0.         0.         0.         0.         0.\n",
            " 0.         0.         0.         0.         0.         0.\n",
            " 0.         0.         0.         0.         0.         0.\n",
            " 0.         0.         0.         0.         0.         0.\n",
            " 0.         0.         0.         0.         0.         0.\n",
            " 0.         0.         0.         0.         0.         0.\n",
            " 0.7372549  1.         0.36862746 0.         0.         0.\n",
            " 0.         0.         0.         0.         0.         0.\n",
            " 0.         0.         0.         0.         0.         0.\n",
            " 0.         0.         0.         0.         0.         0.\n",
            " 0.         0.         0.         0.7490196  0.98039216 0.99215686\n",
            " 0.3647059  0.         0.         0.         0.         0.\n",
            " 0.         0.         0.         0.         0.         0.\n",
            " 0.         0.         0.         0.         0.         0.\n",
            " 0.         0.         0.         0.         0.         0.\n",
            " 0.48235294 0.972549   0.99215686 0.654902   0.03921569 0.\n",
            " 0.         0.         0.         0.         0.         0.\n",
            " 0.         0.         0.         0.         0.         0.\n",
            " 0.         0.         0.         0.         0.         0.\n",
            " 0.         0.         0.         0.3137255  0.96862745 0.99215686\n",
            " 0.8156863  0.05098039 0.         0.         0.         0.\n",
            " 0.         0.         0.         0.         0.         0.\n",
            " 0.         0.         0.         0.         0.         0.\n",
            " 0.         0.         0.         0.         0.         0.\n",
            " 0.11372549 0.8117647  0.99215686 0.92156863 0.3019608  0.\n",
            " 0.         0.         0.         0.         0.         0.\n",
            " 0.         0.         0.         0.         0.         0.\n",
            " 0.         0.         0.         0.         0.         0.\n",
            " 0.         0.         0.         0.21176471 0.81960785 0.99215686\n",
            " 0.99215686 0.34509805 0.         0.         0.         0.\n",
            " 0.         0.         0.         0.         0.         0.\n",
            " 0.         0.         0.         0.         0.         0.\n",
            " 0.         0.         0.         0.         0.         0.\n",
            " 0.3647059  0.99607843 0.99215686 0.93333334 0.6666667  0.06666667\n",
            " 0.         0.         0.         0.         0.         0.\n",
            " 0.         0.         0.         0.         0.         0.\n",
            " 0.         0.         0.         0.         0.         0.\n",
            " 0.         0.         0.         0.09019608 0.8235294  0.99607843\n",
            " 0.99215686 0.62352943 0.         0.         0.         0.\n",
            " 0.         0.         0.         0.         0.         0.\n",
            " 0.         0.         0.         0.         0.         0.\n",
            " 0.         0.         0.         0.         0.         0.\n",
            " 0.0627451  0.81960785 0.99215686 0.99607843 0.9411765  0.31764707\n",
            " 0.         0.         0.         0.         0.         0.\n",
            " 0.         0.         0.         0.         0.         0.\n",
            " 0.         0.         0.         0.         0.         0.\n",
            " 0.         0.         0.         0.         0.10588235 0.99215686\n",
            " 0.99215686 0.99607843 0.05098039 0.         0.         0.\n",
            " 0.         0.         0.         0.         0.         0.\n",
            " 0.         0.         0.         0.         0.         0.\n",
            " 0.         0.         0.         0.         0.         0.\n",
            " 0.         0.07843138 0.80784315 0.99607843 0.99607843 0.7764706\n",
            " 0.02745098 0.         0.         0.         0.         0.\n",
            " 0.         0.         0.         0.         0.         0.\n",
            " 0.         0.         0.         0.         0.         0.\n",
            " 0.         0.         0.         0.         0.         0.65882355\n",
            " 0.99215686 0.99215686 0.76862746 0.02745098 0.         0.\n",
            " 0.         0.         0.         0.         0.         0.\n",
            " 0.         0.         0.         0.         0.         0.\n",
            " 0.         0.         0.         0.         0.         0.\n",
            " 0.         0.         0.07843138 0.79607844 0.99215686 0.972549\n",
            " 0.29803923 0.         0.         0.         0.         0.\n",
            " 0.         0.         0.         0.         0.         0.\n",
            " 0.         0.         0.         0.         0.         0.\n",
            " 0.         0.         0.         0.         0.         0.08627451\n",
            " 0.7372549  0.99215686 0.9607843  0.3647059  0.         0.\n",
            " 0.         0.         0.         0.         0.         0.\n",
            " 0.         0.         0.         0.         0.         0.\n",
            " 0.         0.         0.         0.         0.         0.\n",
            " 0.         0.         0.         0.40392157 0.99215686 0.99215686\n",
            " 0.7490196  0.         0.         0.         0.         0.\n",
            " 0.         0.         0.         0.         0.         0.\n",
            " 0.         0.         0.         0.         0.         0.\n",
            " 0.         0.         0.         0.         0.         0.\n",
            " 0.34901962 0.9411765  0.99215686 0.7647059  0.09803922 0.\n",
            " 0.         0.         0.         0.         0.         0.\n",
            " 0.         0.         0.         0.         0.         0.\n",
            " 0.         0.         0.         0.         0.         0.\n",
            " 0.         0.         0.         0.05882353 0.8627451  0.99215686\n",
            " 0.99215686 0.3137255  0.         0.         0.         0.\n",
            " 0.         0.         0.         0.         0.         0.\n",
            " 0.         0.         0.         0.         0.         0.\n",
            " 0.         0.         0.         0.         0.         0.\n",
            " 0.         0.36862746 0.99215686 0.99215686 0.99215686 0.36862746\n",
            " 0.         0.         0.         0.         0.         0.\n",
            " 0.         0.         0.         0.         0.         0.\n",
            " 0.         0.         0.         0.         0.         0.\n",
            " 0.         0.         0.         0.         0.         0.34901962\n",
            " 0.9843137  0.99215686 0.98039216 0.5137255  0.         0.\n",
            " 0.         0.         0.         0.         0.         0.\n",
            " 0.         0.         0.         0.         0.         0.\n",
            " 0.         0.         0.         0.         0.         0.\n",
            " 0.         0.         0.         0.         0.8392157  0.85490197\n",
            " 0.37254903 0.         0.         0.         0.         0.\n",
            " 0.         0.         0.         0.         0.         0.\n",
            " 0.         0.         0.         0.         0.         0.\n",
            " 0.         0.         0.         0.         0.         0.\n",
            " 0.         0.         0.         0.         0.         0.\n",
            " 0.         0.         0.         0.         0.         0.\n",
            " 0.         0.         0.         0.         0.         0.\n",
            " 0.         0.         0.         0.         0.         0.\n",
            " 0.         0.         0.         0.         0.         0.\n",
            " 0.         0.         0.         0.         0.         0.\n",
            " 0.         0.         0.         0.         0.         0.\n",
            " 0.         0.         0.         0.         0.         0.\n",
            " 0.         0.         0.         0.         0.         0.\n",
            " 0.         0.         0.         0.         0.         0.\n",
            " 0.         0.         0.         0.         0.         0.\n",
            " 0.         0.         0.         0.         0.         0.\n",
            " 0.         0.         0.         0.         0.         0.\n",
            " 0.         0.         0.         0.         0.         0.\n",
            " 0.         0.         0.         0.         0.         0.\n",
            " 0.         0.         0.         0.         0.         0.\n",
            " 0.         0.         0.         0.         0.         0.\n",
            " 0.         0.         0.         0.        ]\n"
          ],
          "name": "stdout"
        }
      ]
    },
    {
      "cell_type": "code",
      "metadata": {
        "colab": {
          "base_uri": "https://localhost:8080/"
        },
        "id": "CluSvE_8wzGg",
        "outputId": "afd825d1-8e9c-4ead-f8ad-a80905a6a0ee"
      },
      "source": [
        "# Vamos ajustar o formato da saida\n",
        "num_classes = 10\n",
        "\n",
        "# Convertendo para um vetor de saida com 10 dimensoes\n",
        "# ex. 8 => [0,0,0,0,0,0,0,0,1,0]\n",
        "y = keras.utils.to_categorical(Y, num_classes)\n",
        "print(y[0])"
      ],
      "execution_count": 7,
      "outputs": [
        {
          "output_type": "stream",
          "text": [
            "[0. 1. 0. 0. 0. 0. 0. 0. 0. 0.]\n"
          ],
          "name": "stdout"
        }
      ]
    },
    {
      "cell_type": "code",
      "metadata": {
        "colab": {
          "base_uri": "https://localhost:8080/"
        },
        "id": "gUKYGoPpw2z6",
        "outputId": "751289de-8925-4a31-8cd7-a8c6337c6f6d"
      },
      "source": [
        "# Separando uma parte para treino (90%) e outra para validação (10%)\n",
        "from sklearn.model_selection import train_test_split\n",
        "x_train, x_val, y_train, y_val = train_test_split(x, y, test_size = 0.1, random_state=9)\n",
        "print('Qtde de treino: {}'.format(len(x_train)))\n",
        "print('Qtde de validação: {}'.format(len(x_val)))"
      ],
      "execution_count": 8,
      "outputs": [
        {
          "output_type": "stream",
          "text": [
            "Qtde de treino: 37800\n",
            "Qtde de validação: 4200\n"
          ],
          "name": "stdout"
        }
      ]
    },
    {
      "cell_type": "code",
      "metadata": {
        "colab": {
          "base_uri": "https://localhost:8080/"
        },
        "id": "VV24NHrTw59n",
        "outputId": "054f0233-5306-4f6a-b2f1-55ef2daa0a39"
      },
      "source": [
        "# Criando o modelo Sequential\n",
        "# Sequential: Modelo Keras de ir adicionando camadas (como um lego)\n",
        "# Dense: Camada onde todas as entradas estão conectadas em cada neurônio (totalmente conectada)\n",
        "# Dropout: Camada usa durante treino que descarta aleatoriamente um percentual de conexões (reduz overfitting)\n",
        "\n",
        "model = Sequential()\n",
        "# Camada com 30 neurônios\n",
        "model.add(Dense(30, activation='relu', input_shape=(784,)))\n",
        "# Dropout de 20%\n",
        "model.add(Dropout(0.2))\n",
        "# Camada de 20 neurônios\n",
        "model.add(Dense(20, activation='relu'))\n",
        "# Dropout de 20%\n",
        "model.add(Dropout(0.2))\n",
        "# Camda de classificação final, com 1 neurônio para cada classe de saída. Softmax divide a probabilidade de cada classe.\n",
        "model.add(Dense(num_classes, activation='softmax'))\n",
        "\n",
        "model.summary()"
      ],
      "execution_count": 9,
      "outputs": [
        {
          "output_type": "stream",
          "text": [
            "Model: \"sequential\"\n",
            "_________________________________________________________________\n",
            "Layer (type)                 Output Shape              Param #   \n",
            "=================================================================\n",
            "dense (Dense)                (None, 30)                23550     \n",
            "_________________________________________________________________\n",
            "dropout (Dropout)            (None, 30)                0         \n",
            "_________________________________________________________________\n",
            "dense_1 (Dense)              (None, 20)                620       \n",
            "_________________________________________________________________\n",
            "dropout_1 (Dropout)          (None, 20)                0         \n",
            "_________________________________________________________________\n",
            "dense_2 (Dense)              (None, 10)                210       \n",
            "=================================================================\n",
            "Total params: 24,380\n",
            "Trainable params: 24,380\n",
            "Non-trainable params: 0\n",
            "_________________________________________________________________\n"
          ],
          "name": "stdout"
        }
      ]
    },
    {
      "cell_type": "code",
      "metadata": {
        "id": "QHBafnW_w95d"
      },
      "source": [
        "# Compila o modelo\n",
        "model.compile(loss='categorical_crossentropy',\n",
        "              optimizer=RMSprop(),\n",
        "              metrics=['accuracy'])"
      ],
      "execution_count": 10,
      "outputs": []
    },
    {
      "cell_type": "code",
      "metadata": {
        "colab": {
          "base_uri": "https://localhost:8080/"
        },
        "id": "3LPbRNP8xBRN",
        "outputId": "0525d423-096e-480a-bb1d-d48ac4e2f56f"
      },
      "source": [
        "# Treina com os parte dos dados\n",
        "batch_size = 32\n",
        "epochs = 30\n",
        "history = model.fit(x_train, y_train,\n",
        "                    batch_size=batch_size,\n",
        "                    epochs=epochs,\n",
        "                    verbose=1,\n",
        "                    validation_data=(x_val, y_val))"
      ],
      "execution_count": 11,
      "outputs": [
        {
          "output_type": "stream",
          "text": [
            "Epoch 1/30\n",
            "1182/1182 [==============================] - 3s 2ms/step - loss: 1.1333 - accuracy: 0.6305 - val_loss: 0.3006 - val_accuracy: 0.9133\n",
            "Epoch 2/30\n",
            "1182/1182 [==============================] - 2s 2ms/step - loss: 0.4735 - accuracy: 0.8578 - val_loss: 0.2603 - val_accuracy: 0.9264\n",
            "Epoch 3/30\n",
            "1182/1182 [==============================] - 2s 2ms/step - loss: 0.3810 - accuracy: 0.8897 - val_loss: 0.2262 - val_accuracy: 0.9352\n",
            "Epoch 4/30\n",
            "1182/1182 [==============================] - 2s 2ms/step - loss: 0.3556 - accuracy: 0.8978 - val_loss: 0.2025 - val_accuracy: 0.9431\n",
            "Epoch 5/30\n",
            "1182/1182 [==============================] - 2s 2ms/step - loss: 0.3350 - accuracy: 0.9048 - val_loss: 0.2126 - val_accuracy: 0.9398\n",
            "Epoch 6/30\n",
            "1182/1182 [==============================] - 2s 2ms/step - loss: 0.3129 - accuracy: 0.9132 - val_loss: 0.1954 - val_accuracy: 0.9452\n",
            "Epoch 7/30\n",
            "1182/1182 [==============================] - 2s 2ms/step - loss: 0.2988 - accuracy: 0.9144 - val_loss: 0.1891 - val_accuracy: 0.9498\n",
            "Epoch 8/30\n",
            "1182/1182 [==============================] - 2s 2ms/step - loss: 0.3098 - accuracy: 0.9162 - val_loss: 0.2021 - val_accuracy: 0.9469\n",
            "Epoch 9/30\n",
            "1182/1182 [==============================] - 2s 2ms/step - loss: 0.3035 - accuracy: 0.9192 - val_loss: 0.2009 - val_accuracy: 0.9493\n",
            "Epoch 10/30\n",
            "1182/1182 [==============================] - 2s 2ms/step - loss: 0.2991 - accuracy: 0.9216 - val_loss: 0.2020 - val_accuracy: 0.9460\n",
            "Epoch 11/30\n",
            "1182/1182 [==============================] - 2s 2ms/step - loss: 0.2956 - accuracy: 0.9206 - val_loss: 0.2135 - val_accuracy: 0.9455\n",
            "Epoch 12/30\n",
            "1182/1182 [==============================] - 2s 2ms/step - loss: 0.2768 - accuracy: 0.9239 - val_loss: 0.1868 - val_accuracy: 0.9514\n",
            "Epoch 13/30\n",
            "1182/1182 [==============================] - 2s 2ms/step - loss: 0.2814 - accuracy: 0.9220 - val_loss: 0.1892 - val_accuracy: 0.9498\n",
            "Epoch 14/30\n",
            "1182/1182 [==============================] - 2s 2ms/step - loss: 0.2904 - accuracy: 0.9199 - val_loss: 0.2025 - val_accuracy: 0.9512\n",
            "Epoch 15/30\n",
            "1182/1182 [==============================] - 2s 2ms/step - loss: 0.2877 - accuracy: 0.9244 - val_loss: 0.2019 - val_accuracy: 0.9500\n",
            "Epoch 16/30\n",
            "1182/1182 [==============================] - 2s 2ms/step - loss: 0.2840 - accuracy: 0.9251 - val_loss: 0.1912 - val_accuracy: 0.9545\n",
            "Epoch 17/30\n",
            "1182/1182 [==============================] - 2s 2ms/step - loss: 0.3006 - accuracy: 0.9258 - val_loss: 0.2128 - val_accuracy: 0.9502\n",
            "Epoch 18/30\n",
            "1182/1182 [==============================] - 2s 2ms/step - loss: 0.2793 - accuracy: 0.9265 - val_loss: 0.2103 - val_accuracy: 0.9502\n",
            "Epoch 19/30\n",
            "1182/1182 [==============================] - 2s 2ms/step - loss: 0.2857 - accuracy: 0.9276 - val_loss: 0.2095 - val_accuracy: 0.9524\n",
            "Epoch 20/30\n",
            "1182/1182 [==============================] - 2s 2ms/step - loss: 0.2799 - accuracy: 0.9262 - val_loss: 0.2017 - val_accuracy: 0.9531\n",
            "Epoch 21/30\n",
            "1182/1182 [==============================] - 2s 2ms/step - loss: 0.2795 - accuracy: 0.9263 - val_loss: 0.2152 - val_accuracy: 0.9510\n",
            "Epoch 22/30\n",
            "1182/1182 [==============================] - 2s 2ms/step - loss: 0.2745 - accuracy: 0.9292 - val_loss: 0.2149 - val_accuracy: 0.9531\n",
            "Epoch 23/30\n",
            "1182/1182 [==============================] - 2s 2ms/step - loss: 0.2830 - accuracy: 0.9297 - val_loss: 0.2137 - val_accuracy: 0.9521\n",
            "Epoch 24/30\n",
            "1182/1182 [==============================] - 2s 2ms/step - loss: 0.2742 - accuracy: 0.9316 - val_loss: 0.2237 - val_accuracy: 0.9514\n",
            "Epoch 25/30\n",
            "1182/1182 [==============================] - 2s 2ms/step - loss: 0.2917 - accuracy: 0.9274 - val_loss: 0.2128 - val_accuracy: 0.9524\n",
            "Epoch 26/30\n",
            "1182/1182 [==============================] - 2s 2ms/step - loss: 0.2832 - accuracy: 0.9293 - val_loss: 0.2226 - val_accuracy: 0.9533\n",
            "Epoch 27/30\n",
            "1182/1182 [==============================] - 2s 2ms/step - loss: 0.2825 - accuracy: 0.9304 - val_loss: 0.2127 - val_accuracy: 0.9543\n",
            "Epoch 28/30\n",
            "1182/1182 [==============================] - 2s 2ms/step - loss: 0.2943 - accuracy: 0.9298 - val_loss: 0.2261 - val_accuracy: 0.9524\n",
            "Epoch 29/30\n",
            "1182/1182 [==============================] - 2s 2ms/step - loss: 0.2835 - accuracy: 0.9301 - val_loss: 0.2219 - val_accuracy: 0.9524\n",
            "Epoch 30/30\n",
            "1182/1182 [==============================] - 2s 2ms/step - loss: 0.2960 - accuracy: 0.9263 - val_loss: 0.2154 - val_accuracy: 0.9524\n"
          ],
          "name": "stdout"
        }
      ]
    },
    {
      "cell_type": "code",
      "metadata": {
        "colab": {
          "base_uri": "https://localhost:8080/",
          "height": 483
        },
        "id": "qwlxjAzuxG6b",
        "outputId": "3d1fadcb-501d-4d61-86f0-79233b8c7b10"
      },
      "source": [
        "#Vamos ver como foi o treino?\n",
        "\n",
        "fig, ax = plt.subplots(1,2, figsize=(16,8))\n",
        "ax[0].plot(history.history['loss'], color='b', label=\"Training loss\")\n",
        "ax[0].plot(history.history['val_loss'], color='r', label=\"validation loss\",axes =ax[0])\n",
        "legend = ax[0].legend(loc='best', shadow=True)\n",
        "\n",
        "ax[1].plot(history.history['accuracy'], color='b', label=\"Training accuracy\")\n",
        "ax[1].plot(history.history['val_accuracy'], color='r',label=\"Validation accuracy\")\n",
        "legend = ax[1].legend(loc='best', shadow=True)"
      ],
      "execution_count": 12,
      "outputs": [
        {
          "output_type": "display_data",
          "data": {
            "image/png": "[encoded data removed]",
            "text/plain": [
              "<Figure size 1152x576 with 2 Axes>"
            ]
          },
          "metadata": {
            "tags": [],
            "needs_background": "light"
          }
        }
      ]
    },
    {
      "cell_type": "code",
      "metadata": {
        "colab": {
          "base_uri": "https://localhost:8080/"
        },
        "id": "0jILQoxoxLrr",
        "outputId": "190bcda2-661c-42b9-f166-ddcb26fb0c5b"
      },
      "source": [
        "# Testa\n",
        "score = model.evaluate(x_val, y_val, verbose=0)\n",
        "print('Test loss:', score[0])\n",
        "print('Test accuracy:', score[1])"
      ],
      "execution_count": 13,
      "outputs": [
        {
          "output_type": "stream",
          "text": [
            "Test loss: 0.21544429659843445\n",
            "Test accuracy: 0.9523809552192688\n"
          ],
          "name": "stdout"
        }
      ]
    },
    {
      "cell_type": "code",
      "metadata": {
        "colab": {
          "base_uri": "https://localhost:8080/"
        },
        "id": "15YtYEk-xOS8",
        "outputId": "12e124f2-e111-459a-dc74-5fd2d665c3dd"
      },
      "source": [
        "# Testando uma entrada qualquer\n",
        "print(y_train[10])\n",
        "print(model.predict(x_train[10].reshape((1,784))))\n",
        "print(model.predict_classes(x_train[10].reshape((1,784))))"
      ],
      "execution_count": 14,
      "outputs": [
        {
          "output_type": "stream",
          "text": [
            "[0. 0. 0. 1. 0. 0. 0. 0. 0. 0.]\n",
            "[[0.0000000e+00 6.8759656e-30 3.7263039e-18 1.0000000e+00 0.0000000e+00\n",
            "  3.9348425e-12 0.0000000e+00 1.4767419e-17 6.6229088e-20 5.0189549e-27]]\n",
            "[3]\n"
          ],
          "name": "stdout"
        },
        {
          "output_type": "stream",
          "text": [
            "/usr/local/lib/python3.7/dist-packages/tensorflow/python/keras/engine/sequential.py:450: UserWarning: `model.predict_classes()` is deprecated and will be removed after 2021-01-01. Please use instead:* `np.argmax(model.predict(x), axis=-1)`,   if your model does multi-class classification   (e.g. if it uses a `softmax` last-layer activation).* `(model.predict(x) > 0.5).astype(\"int32\")`,   if your model does binary classification   (e.g. if it uses a `sigmoid` last-layer activation).\n",
            "  warnings.warn('`model.predict_classes()` is deprecated and '\n"
          ],
          "name": "stderr"
        }
      ]
    },
    {
      "cell_type": "code",
      "metadata": {
        "id": "Ts0v5-DaxRG1"
      },
      "source": [
        "#Avaliando o Modelo\n",
        "import itertools\n",
        "#Plot the confusion matrix. Set Normalize = True/False\n",
        "def plot_confusion_matrix(cm, classes, normalize=True, title='Confusion matrix', cmap=plt.cm.Blues):\n",
        "    \"\"\"\n",
        "    This function prints and plots the confusion matrix.\n",
        "    Normalization can be applied by setting `normalize=True`.\n",
        "    \"\"\"\n",
        "    plt.figure(figsize=(10,10))\n",
        "    plt.imshow(cm, interpolation='nearest', cmap=cmap)\n",
        "    plt.title(title)\n",
        "    plt.colorbar()\n",
        "    tick_marks = np.arange(len(classes))\n",
        "    plt.xticks(tick_marks, classes, rotation=45)\n",
        "    plt.yticks(tick_marks, classes)\n",
        "    if normalize:\n",
        "        cm = cm.astype('float') / cm.sum(axis=1)[:, np.newaxis]\n",
        "        cm = np.around(cm, decimals=2)\n",
        "        cm[np.isnan(cm)] = 0.0\n",
        "    thresh = cm.max() / 2.\n",
        "    for i, j in itertools.product(range(cm.shape[0]), range(cm.shape[1])):\n",
        "        plt.text(j, i, cm[i, j],\n",
        "                 horizontalalignment=\"center\",\n",
        "                 color=\"white\" if cm[i, j] > thresh else \"black\")\n",
        "    plt.tight_layout()\n",
        "    plt.ylabel('True label')\n",
        "    plt.xlabel('Predicted label')"
      ],
      "execution_count": 15,
      "outputs": []
    },
    {
      "cell_type": "code",
      "metadata": {
        "colab": {
          "base_uri": "https://localhost:8080/",
          "height": 1000
        },
        "id": "ryI_xBasxXs_",
        "outputId": "76f04f54-8f29-4638-92c3-6e40826a0de6"
      },
      "source": [
        "# Vendo alguns reports\n",
        "# Usando sklearn\n",
        "import numpy as np\n",
        "\n",
        "# Classificando toda base de teste\n",
        "y_pred = model.predict_classes(x_val)\n",
        "# voltando pro formato de classes\n",
        "y_test_c = np.argmax(y_val, axis=1)\n",
        "target_names = ['0', '1', '2', '3', '4', '5', '6', '7', '8', '9']\n",
        "\n",
        "#Confution Matrix\n",
        "cm = confusion_matrix(y_test_c, y_pred)\n",
        "plot_confusion_matrix(cm, target_names, normalize=False, title='Confusion Matrix')\n",
        "\n",
        "print('Classification Report')\n",
        "print(classification_report(y_test_c, y_pred, target_names=target_names))"
      ],
      "execution_count": 16,
      "outputs": [
        {
          "output_type": "stream",
          "text": [
            "/usr/local/lib/python3.7/dist-packages/tensorflow/python/keras/engine/sequential.py:450: UserWarning: `model.predict_classes()` is deprecated and will be removed after 2021-01-01. Please use instead:* `np.argmax(model.predict(x), axis=-1)`,   if your model does multi-class classification   (e.g. if it uses a `softmax` last-layer activation).* `(model.predict(x) > 0.5).astype(\"int32\")`,   if your model does binary classification   (e.g. if it uses a `sigmoid` last-layer activation).\n",
            "  warnings.warn('`model.predict_classes()` is deprecated and '\n"
          ],
          "name": "stderr"
        },
        {
          "output_type": "stream",
          "text": [
            "Classification Report\n",
            "              precision    recall  f1-score   support\n",
            "\n",
            "           0       0.97      0.99      0.98       396\n",
            "           1       0.98      0.97      0.98       488\n",
            "           2       0.95      0.96      0.95       395\n",
            "           3       0.94      0.96      0.95       445\n",
            "           4       0.97      0.93      0.95       441\n",
            "           5       0.94      0.92      0.93       384\n",
            "           6       0.97      0.94      0.96       398\n",
            "           7       0.96      0.94      0.95       428\n",
            "           8       0.94      0.96      0.95       416\n",
            "           9       0.89      0.96      0.93       409\n",
            "\n",
            "    accuracy                           0.95      4200\n",
            "   macro avg       0.95      0.95      0.95      4200\n",
            "weighted avg       0.95      0.95      0.95      4200\n",
            "\n"
          ],
          "name": "stdout"
        },
        {
          "output_type": "display_data",
          "data": {
            "image/png": "[encoded data removed]",
            "text/plain": [
              "<Figure size 720x720 with 2 Axes>"
            ]
          },
          "metadata": {
            "tags": [],
            "needs_background": "light"
          }
        }
      ]
    },
    {
      "cell_type": "code",
      "metadata": {
        "colab": {
          "base_uri": "https://localhost:8080/",
          "height": 540
        },
        "id": "9MULWE04xc7c",
        "outputId": "28d0a167-6ebb-4047-f5d5-162a094fccad"
      },
      "source": [
        "# Gerando saída para dataset de teste\n",
        "\n",
        "#Carrega dataset de teste\n",
        "test = pd.read_csv(\"https://raw.githubusercontent.com/HemersonRafael/ml/main/MLP_KERAS/test.csv?token=AD5SBCBK6IOCAP72CV33UPDAQJB7M\")\n",
        "print(\"Qtde de testes: {}\".format(len(test)))\n",
        "# Bota no formato numpy e normaliza\n",
        "x_test = test.values.reshape(len(test),784)\n",
        "x_test = x_test.astype('float32')\n",
        "x_test /= 255\n",
        "\n",
        "# Faz classificação para dataset de teste\n",
        "y_pred = model.predict_classes(x_test)\n",
        "\n",
        "# Verficando algum exemplo\n",
        "i = 0\n",
        "plt.imshow(test.values[i].reshape(28,28), cmap=plt.cm.binary)\n",
        "plt.show()\n",
        "print('Previsto: {}'.format(y_pred[i]))\n",
        "\n",
        "# Botando no formato de saída (competição Kaggle)\n",
        "results = pd.Series(y_pred,name=\"Label\")\n",
        "submission = pd.concat([pd.Series(range(1,len(y_pred)+1),name = \"ImageId\"),results],axis = 1)\n",
        "print(submission.head(10))\n",
        "#Salvando Arquivo\n",
        "submission.to_csv(\"mlp_mnist_v1.csv\",index=False)"
      ],
      "execution_count": 17,
      "outputs": [
        {
          "output_type": "stream",
          "text": [
            "Qtde de testes: 28000\n"
          ],
          "name": "stdout"
        },
        {
          "output_type": "stream",
          "text": [
            "/usr/local/lib/python3.7/dist-packages/tensorflow/python/keras/engine/sequential.py:450: UserWarning: `model.predict_classes()` is deprecated and will be removed after 2021-01-01. Please use instead:* `np.argmax(model.predict(x), axis=-1)`,   if your model does multi-class classification   (e.g. if it uses a `softmax` last-layer activation).* `(model.predict(x) > 0.5).astype(\"int32\")`,   if your model does binary classification   (e.g. if it uses a `sigmoid` last-layer activation).\n",
            "  warnings.warn('`model.predict_classes()` is deprecated and '\n"
          ],
          "name": "stderr"
        },
        {
          "output_type": "display_data",
          "data": {
            "image/png": "[encoded data removed]",
            "text/plain": [
              "<Figure size 432x288 with 1 Axes>"
            ]
          },
          "metadata": {
            "tags": [],
            "needs_background": "light"
          }
        },
        {
          "output_type": "stream",
          "text": [
            "Previsto: 2\n",
            "   ImageId  Label\n",
            "0        1      2\n",
            "1        2      0\n",
            "2        3      9\n",
            "3        4      9\n",
            "4        5      3\n",
            "5        6      7\n",
            "6        7      0\n",
            "7        8      3\n",
            "8        9      0\n",
            "9       10      3\n"
          ],
          "name": "stdout"
        }
      ]
    },
    {
      "cell_type": "code",
      "metadata": {
        "colab": {
          "base_uri": "https://localhost:8080/",
          "height": 299
        },
        "id": "SYBOUWqsxl2d",
        "outputId": "ee7d465b-b291-47f8-f8d0-e0f642871c52"
      },
      "source": [
        "#introduzindo ruido\n",
        "import numpy as np\n",
        "mean = 0.\n",
        "stddev = 0.2\n",
        "noise = np.random.normal(mean, stddev, (4200, 784))\n",
        "x_te = x_val + noise\n",
        "x_te = np.clip(x_te, 0., 1.)\n",
        "\n",
        "plt.imshow(x_te.reshape(4200, 28,28)[0], cmap=plt.cm.binary)\n",
        "plt.show()\n",
        "\n",
        "# Testa\n",
        "score = model.evaluate(x_te, y_val, verbose=0)\n",
        "print('Test loss:', score[0])\n",
        "print('Test accuracy:', score[1])"
      ],
      "execution_count": 18,
      "outputs": [
        {
          "output_type": "display_data",
          "data": {
            "image/png": "[encoded data removed]",
            "text/plain": [
              "<Figure size 432x288 with 1 Axes>"
            ]
          },
          "metadata": {
            "tags": [],
            "needs_background": "light"
          }
        },
        {
          "output_type": "stream",
          "text": [
            "Test loss: 9.895907402038574\n",
            "Test accuracy: 0.5492857098579407\n"
          ],
          "name": "stdout"
        }
      ]
    }
  ]
}