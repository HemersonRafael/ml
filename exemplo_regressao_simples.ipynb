{
  "nbformat": 4,
  "nbformat_minor": 0,
  "metadata": {
    "colab": {
      "name": "exemplo_regressao_simples.ipynb",
      "provenance": []
    },
    "kernelspec": {
      "name": "python3",
      "display_name": "Python 3"
    },
    "language_info": {
      "name": "python"
    }
  },
  "cells": [
    {
      "cell_type": "code",
      "metadata": {
        "id": "pbf2t6kOPw34"
      },
      "source": [
        "import matplotlib.pyplot as plt\n",
        "import numpy as np\n",
        "from sklearn import datasets, linear_model\n",
        "from sklearn.model_selection import train_test_split\n",
        "  \n",
        "# carregando os datasets\n",
        "dados = datasets.load_diabetes()"
      ],
      "execution_count": 8,
      "outputs": []
    },
    {
      "cell_type": "code",
      "metadata": {
        "colab": {
          "base_uri": "https://localhost:8080/"
        },
        "id": "8XHa1-fnNfBo",
        "outputId": "1028bed1-dcdc-423e-e051-130a7144c433"
      },
      "source": [
        "# utilizando o recurso\n",
        "x = dados.data[:, np.newaxis]\n",
        "x_temp = x[:, :, 2]\n",
        "y = dados.target\n",
        "  \n",
        "# dividindo a base de dados entre treino e teste\n",
        "x_train, x_test, y_train, y_test = train_test_split(x_temp, y)\n",
        "  \n",
        "# aplicando o modelo de regressão linear usando LinearRegression()\n",
        "modelo = linear_model.LinearRegression()\n",
        "  \n",
        "# treinando o modelo usando os dados de treinamento\n",
        "modelo.fit(x_train, y_train)\n",
        "  \n",
        "\n"
      ],
      "execution_count": 9,
      "outputs": [
        {
          "output_type": "execute_result",
          "data": {
            "text/plain": [
              "0.29588095231552214"
            ]
          },
          "metadata": {
            "tags": []
          },
          "execution_count": 9
        }
      ]
    },
    {
      "cell_type": "code",
      "metadata": {
        "colab": {
          "base_uri": "https://localhost:8080/"
        },
        "id": "47Mj0sjySBsd",
        "outputId": "cc909199-28aa-4470-932c-e4d6a5a935de"
      },
      "source": [
        "print(\"Coeficientes: \" + str(modelo.coef_))\n",
        "print(\"Erro quadrático médio: \" + str(np.mean((modelo.predict(x_test) - y_test) ** 2)))\n",
        "print((\"variância: \" + str(modelo.score(x_test, y_test))))"
      ],
      "execution_count": 14,
      "outputs": [
        {
          "output_type": "stream",
          "text": [
            "Coeficientes: [966.09224511]\n",
            "Erro quadrático médio: 3978.8357546413795\n",
            "variância: 0.29588095231552214\n"
          ],
          "name": "stdout"
        }
      ]
    },
    {
      "cell_type": "code",
      "metadata": {
        "colab": {
          "base_uri": "https://localhost:8080/",
          "height": 252
        },
        "id": "I17V4sJKP2y8",
        "outputId": "e98a9097-44ff-425d-aefb-8807b8f2a7cc"
      },
      "source": [
        "# plotando os resultados\n",
        "plt.scatter(x_test, y_test,  color='black')\n",
        "plt.plot(x_test, modelo.predict(x_test), color='blue', linewidth=3)\n",
        "  \n",
        "plt.xticks(())\n",
        "plt.yticks(())\n",
        "  \n",
        "plt.show()"
      ],
      "execution_count": 10,
      "outputs": [
        {
          "output_type": "display_data",
          "data": {
            "image/png": "[encoded data removed]",
            "text/plain": [
              "<Figure size 432x288 with 1 Axes>"
            ]
          },
          "metadata": {
            "tags": []
          }
        }
      ]
    }
  ]
}